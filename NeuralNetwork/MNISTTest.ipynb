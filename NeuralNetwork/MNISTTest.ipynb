{
 "cells": [
  {
   "cell_type": "code",
   "execution_count": 5,
   "metadata": {},
   "outputs": [],
   "source": [
    "import numpy as np\n",
    "import matplotlib.pyplot as plt\n",
    "import pandas as pd\n",
    "\n",
    "from scratchNNlib import NN\n",
    "from scratchNNlib.Layers import LinearLayer\n",
    "from scratchNNlib.Layers.ActivationLayer import ReLU, Softmax\n",
    "from scratchNNlib.Loss import CategoricalCrossEntropy"
   ]
  },
  {
   "cell_type": "code",
   "execution_count": 6,
   "metadata": {},
   "outputs": [],
   "source": [
    "test_data = pd.read_csv('Training_Data/mnist_test.csv')\n",
    "train_data = pd.read_csv('Training_Data/mnist_train.csv')"
   ]
  },
  {
   "cell_type": "code",
   "execution_count": 27,
   "metadata": {},
   "outputs": [],
   "source": [
    "## 1D Data formats, superseded in next coded block by 2D formats\n",
    "\n",
    "x_train = train_data.iloc[:,1:].to_numpy()\n",
    "y_train = train_data['label'].to_numpy()\n",
    "\n",
    "x_test = test_data.iloc[:,1:].to_numpy()\n",
    "y_test = test_data['label'].to_numpy()\n",
    "\n",
    "## Normalizing Data\n",
    "x_train = x_train/255\n",
    "x_test = x_test/255"
   ]
  },
  {
   "cell_type": "code",
   "execution_count": 40,
   "metadata": {},
   "outputs": [],
   "source": [
    "def one_hot_encode(num: int, size: int = 10):\n",
    "    out = np.zeros((1, size))\n",
    "    out[0][num] =+ 1\n",
    "    return out"
   ]
  },
  {
   "cell_type": "code",
   "execution_count": 4,
   "metadata": {},
   "outputs": [],
   "source": [
    "class MNISTNeural(NN):\n",
    "    def __init__(self):\n",
    "        super().__init__()\n",
    "        self.chain = [\n",
    "            LinearLayer(784, 200),\n",
    "            ReLU(),\n",
    "            LinearLayer(200, 150),\n",
    "            ReLU(),\n",
    "            LinearLayer(150, 10),\n",
    "            Softmax(),\n",
    "        ]"
   ]
  },
  {
   "cell_type": "code",
   "execution_count": 42,
   "metadata": {},
   "outputs": [
    {
     "ename": "KeyboardInterrupt",
     "evalue": "",
     "output_type": "error",
     "traceback": [
      "\u001b[0;31m---------------------------------------------------------------------------\u001b[0m",
      "\u001b[0;31mKeyboardInterrupt\u001b[0m                         Traceback (most recent call last)",
      "Cell \u001b[0;32mIn[42], line 15\u001b[0m\n\u001b[1;32m     13\u001b[0m error \u001b[39m=\u001b[39m \u001b[39m0\u001b[39m\n\u001b[1;32m     14\u001b[0m \u001b[39mfor\u001b[39;00m sample \u001b[39min\u001b[39;00m \u001b[39mrange\u001b[39m(samples):\n\u001b[0;32m---> 15\u001b[0m     output \u001b[39m=\u001b[39m model\u001b[39m.\u001b[39;49mforwardProp(x_train[sample]\u001b[39m.\u001b[39;49mreshape(\u001b[39m784\u001b[39;49m, \u001b[39m1\u001b[39;49m))\n\u001b[1;32m     16\u001b[0m     \u001b[39m#print(f'NN output: {output}, expected value: {y_train[sample]}')\u001b[39;00m\n\u001b[1;32m     17\u001b[0m     \u001b[39m#print(f'sample: {x_train[sample].T}')\u001b[39;00m\n\u001b[1;32m     19\u001b[0m     error \u001b[39m+\u001b[39m\u001b[39m=\u001b[39m loss_function(output, one_hot_encode(y_train[sample]))\n",
      "File \u001b[0;32m~/Documents/Code/Neural Network/NeuralNetwork/scratchNNlib/NN.py:20\u001b[0m, in \u001b[0;36mNN.forwardProp\u001b[0;34m(self, inputs)\u001b[0m\n\u001b[1;32m     18\u001b[0m output \u001b[39m=\u001b[39m inputs\n\u001b[1;32m     19\u001b[0m \u001b[39mfor\u001b[39;00m layer \u001b[39min\u001b[39;00m \u001b[39mself\u001b[39m\u001b[39m.\u001b[39mchain:\n\u001b[0;32m---> 20\u001b[0m     output \u001b[39m=\u001b[39m layer(output)\n\u001b[1;32m     21\u001b[0m \u001b[39mreturn\u001b[39;00m output\n",
      "File \u001b[0;32m~/Documents/Code/Neural Network/NeuralNetwork/scratchNNlib/Layers/Layer.py:19\u001b[0m, in \u001b[0;36mLayer.__call__\u001b[0;34m(self, inputs)\u001b[0m\n\u001b[1;32m     11\u001b[0m \u001b[39m\u001b[39m\u001b[39m\"\"\"\u001b[39;00m\n\u001b[1;32m     12\u001b[0m \u001b[39mArgs:\u001b[39;00m\n\u001b[1;32m     13\u001b[0m \u001b[39m    inputs: ndarray of shape (M x N)\u001b[39;00m\n\u001b[0;32m   (...)\u001b[0m\n\u001b[1;32m     16\u001b[0m \u001b[39m    Linear output ndarray of shape (A x B)\u001b[39;00m\n\u001b[1;32m     17\u001b[0m \u001b[39m\"\"\"\u001b[39;00m\n\u001b[1;32m     18\u001b[0m \u001b[39mself\u001b[39m\u001b[39m.\u001b[39minputs \u001b[39m=\u001b[39m inputs\n\u001b[0;32m---> 19\u001b[0m \u001b[39mreturn\u001b[39;00m \u001b[39mself\u001b[39;49m\u001b[39m.\u001b[39;49mforward(inputs)\n",
      "File \u001b[0;32m~/Documents/Code/Neural Network/NeuralNetwork/scratchNNlib/Layers/LinearLayer.py:36\u001b[0m, in \u001b[0;36mLinearLayer.forward\u001b[0;34m(self, inputs)\u001b[0m\n\u001b[1;32m     33\u001b[0m \u001b[39mif\u001b[39;00m inputs\u001b[39m.\u001b[39mshape \u001b[39m!=\u001b[39m (\u001b[39mself\u001b[39m\u001b[39m.\u001b[39minput_size, \u001b[39m1\u001b[39m):\n\u001b[1;32m     34\u001b[0m     \u001b[39mraise\u001b[39;00m \u001b[39mValueError\u001b[39;00m(\u001b[39mf\u001b[39m\u001b[39m'\u001b[39m\u001b[39mThis layer expects inputs of shape \u001b[39m\u001b[39m{\u001b[39;00m(\u001b[39mself\u001b[39m\u001b[39m.\u001b[39minput_size,\u001b[39m \u001b[39m\u001b[39m1\u001b[39m)\u001b[39m}\u001b[39;00m\u001b[39m, instead got input of shape \u001b[39m\u001b[39m{\u001b[39;00minputs\u001b[39m.\u001b[39mshape\u001b[39m}\u001b[39;00m\u001b[39m'\u001b[39m)\n\u001b[0;32m---> 36\u001b[0m \u001b[39mreturn\u001b[39;00m np\u001b[39m.\u001b[39;49mdot(\u001b[39mself\u001b[39;49m\u001b[39m.\u001b[39;49mweights, inputs) \u001b[39m+\u001b[39m \u001b[39mself\u001b[39m\u001b[39m.\u001b[39mbias\n",
      "File \u001b[0;32m<__array_function__ internals>:200\u001b[0m, in \u001b[0;36mdot\u001b[0;34m(*args, **kwargs)\u001b[0m\n",
      "\u001b[0;31mKeyboardInterrupt\u001b[0m: "
     ]
    }
   ],
   "source": [
    "if __name__ == \"__main__\":\n",
    "    epochs = 1\n",
    "    lr = 0.01\n",
    "    \n",
    "    loss_function = CategoricalCrossEntropy()\n",
    "    model = MNISTNeural()\n",
    "    \n",
    "    samples = len(x_train)\n",
    "    \n",
    "    toPlot = [[i for i in range(epochs)], []]\n",
    "\n",
    "    for i in range(epochs):\n",
    "        error = 0\n",
    "        for sample in range(samples):\n",
    "            output = model.forwardProp(x_train[sample].reshape(784, 1))\n",
    "            #print(f'NN output: {output}, expected value: {y_train[sample]}')\n",
    "            #print(f'sample: {x_train[sample].T}')\n",
    "\n",
    "            error += loss_function(output, one_hot_encode(y_train[sample]))\n",
    "            \n",
    "            #print(f'Loss: {error}')\n",
    "        \n",
    "            loss = loss_function.backward()\n",
    "            #print(f'Gradiant: {loss}')\n",
    "            model.backProp(loss, lr)\n",
    "        error /= samples\n",
    "        toPlot[1].append(error)\n",
    "        #print('epoch %d/%d   error=%f' % (i+1, epochs, error))\n",
    "        \n",
    "\n",
    "plt.plot(*toPlot)\n",
    "plt.title('Loss over Time')\n",
    "plt.xlabel('Trial')\n",
    "plt.ylabel('Loss')\n",
    "plt.show()"
   ]
  }
 ],
 "metadata": {
  "kernelspec": {
   "display_name": "venv",
   "language": "python",
   "name": "python3"
  },
  "language_info": {
   "codemirror_mode": {
    "name": "ipython",
    "version": 3
   },
   "file_extension": ".py",
   "mimetype": "text/x-python",
   "name": "python",
   "nbconvert_exporter": "python",
   "pygments_lexer": "ipython3",
   "version": "3.9.6"
  },
  "orig_nbformat": 4
 },
 "nbformat": 4,
 "nbformat_minor": 2
}
