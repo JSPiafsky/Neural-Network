{
 "cells": [
  {
   "cell_type": "code",
   "execution_count": 1,
   "metadata": {},
   "outputs": [],
   "source": [
    "import numpy as np\n",
    "import matplotlib.pyplot as plt\n",
    "import pandas as pd\n",
    "\n",
    "from scratchNNlib import NN\n",
    "from scratchNNlib.Layers import LinearLayer, MomentumLinearLayer, Dropout\n",
    "from scratchNNlib.Layers.ConvolutionLayers import Convolution, Reshape\n",
    "from scratchNNlib.Layers.ActivationLayers import Sigmoid, ReLU, Softmax, Tanh\n",
    "from scratchNNlib.Loss import BinaryCrossEntropy"
   ]
  },
  {
   "cell_type": "code",
   "execution_count": 2,
   "metadata": {},
   "outputs": [],
   "source": [
    "test_data = pd.read_csv('Training_Data/mnist_test.csv')\n",
    "train_data = pd.read_csv('Training_Data/mnist_train.csv')"
   ]
  },
  {
   "cell_type": "code",
   "execution_count": 3,
   "metadata": {},
   "outputs": [],
   "source": [
    "## 1D Data formats, superseded in next coded block by 2D formats\n",
    "\n",
    "x_train = train_data.iloc[:,1:].to_numpy()\n",
    "y_train = train_data['label'].to_numpy()\n",
    "\n",
    "x_test = test_data.iloc[:,1:].to_numpy()\n",
    "y_test = test_data['label'].to_numpy()\n",
    "\n",
    "## Normalizing Data\n",
    "x_train = x_train/255\n",
    "x_test = x_test/255"
   ]
  },
  {
   "cell_type": "code",
   "execution_count": 4,
   "metadata": {},
   "outputs": [],
   "source": [
    "x_train = x_train.reshape(60000, 1, 28, 28)[:256]\n",
    "x_test = x_test.reshape(10000, 1, 28, 28)\n",
    "\n",
    "y_train = y_train.reshape(60000, 1, 1)[:256]\n",
    "y_test = y_test.reshape(10000, 1, 1)\n"
   ]
  },
  {
   "cell_type": "code",
   "execution_count": 5,
   "metadata": {},
   "outputs": [],
   "source": [
    "def one_hot_encode(num: int, size: int = 10):\n",
    "    out = np.zeros((1, size))\n",
    "    out[0][num] =+ 1\n",
    "    return out"
   ]
  },
  {
   "cell_type": "code",
   "execution_count": 21,
   "metadata": {},
   "outputs": [],
   "source": [
    "class MNISTNeuralCNN(NN):\n",
    "    def __init__(self):\n",
    "        super().__init__()\n",
    "        self.chain = [\n",
    "            Convolution((1, 28, 28), 15, 2),\n",
    "            ReLU(),\n",
    "            #Dropout(0.3),\n",
    "            Convolution((2, 14, 14), 12, 3),\n",
    "            ReLU(),\n",
    "            #Dropout(0.3),\n",
    "            Convolution((3, 3, 3), 2, 2),\n",
    "            Reshape((2, 2, 2), (2 * 2 * 2, 1)),\n",
    "            ReLU(),\n",
    "            #Dropout(0.02),\n",
    "            MomentumLinearLayer(2 * 2 * 2, 10),\n",
    "            Softmax(),\n",
    "        ]"
   ]
  },
  {
   "cell_type": "code",
   "execution_count": 22,
   "metadata": {},
   "outputs": [
    {
     "name": "stdout",
     "output_type": "stream",
     "text": [
      "epoch 1/60   error=0.272776\n",
      "epoch 2/60   error=0.259779\n",
      "epoch 3/60   error=0.249416\n",
      "epoch 4/60   error=0.238632\n",
      "epoch 5/60   error=0.227297\n",
      "epoch 6/60   error=0.217202\n",
      "epoch 7/60   error=0.208869\n",
      "epoch 8/60   error=0.201352\n",
      "epoch 9/60   error=0.194227\n",
      "epoch 10/60   error=0.188870\n",
      "epoch 11/60   error=0.183475\n",
      "epoch 12/60   error=0.177150\n",
      "epoch 13/60   error=0.169995\n",
      "epoch 14/60   error=0.160563\n",
      "epoch 15/60   error=0.153052\n",
      "epoch 16/60   error=0.147205\n",
      "epoch 17/60   error=0.142201\n",
      "epoch 18/60   error=0.137442\n",
      "epoch 19/60   error=0.133429\n",
      "epoch 20/60   error=0.129410\n",
      "epoch 21/60   error=0.125937\n",
      "epoch 22/60   error=0.122777\n",
      "epoch 23/60   error=0.119472\n",
      "epoch 24/60   error=0.116416\n",
      "epoch 25/60   error=0.113651\n",
      "epoch 26/60   error=0.110720\n",
      "epoch 27/60   error=0.107895\n",
      "epoch 28/60   error=0.105156\n",
      "epoch 29/60   error=0.102177\n",
      "epoch 30/60   error=0.099836\n",
      "epoch 31/60   error=0.097221\n",
      "epoch 32/60   error=0.094500\n",
      "epoch 33/60   error=0.091845\n",
      "epoch 34/60   error=0.088692\n",
      "epoch 35/60   error=0.086067\n",
      "epoch 36/60   error=0.083407\n",
      "epoch 37/60   error=0.080576\n",
      "epoch 38/60   error=0.078131\n",
      "epoch 39/60   error=0.075626\n",
      "epoch 40/60   error=0.073338\n",
      "epoch 41/60   error=0.071064\n",
      "epoch 42/60   error=0.069161\n",
      "epoch 43/60   error=0.067163\n",
      "epoch 44/60   error=0.064957\n",
      "epoch 45/60   error=0.063258\n",
      "epoch 46/60   error=0.061103\n",
      "epoch 47/60   error=0.059412\n",
      "epoch 48/60   error=0.057545\n",
      "epoch 49/60   error=0.055631\n",
      "epoch 50/60   error=0.053964\n",
      "epoch 51/60   error=0.052553\n",
      "epoch 52/60   error=0.051301\n",
      "epoch 53/60   error=0.049394\n",
      "epoch 54/60   error=0.048057\n",
      "epoch 55/60   error=0.047822\n",
      "epoch 56/60   error=0.046559\n",
      "epoch 57/60   error=0.044295\n",
      "epoch 58/60   error=0.043100\n",
      "epoch 59/60   error=0.042359\n",
      "epoch 60/60   error=0.041038\n"
     ]
    },
    {
     "data": {
      "image/png": "[encoded data removed]",
      "text/plain": [
       "<Figure size 640x480 with 1 Axes>"
      ]
     },
     "metadata": {},
     "output_type": "display_data"
    }
   ],
   "source": [
    "if __name__ == \"__main__\":\n",
    "    epochs = 60\n",
    "    lr = 0.006\n",
    "    \n",
    "    loss_function = BinaryCrossEntropy()\n",
    "    model = MNISTNeuralCNN()\n",
    "\n",
    "    \n",
    "    samples = len(x_train)\n",
    "    \n",
    "    toPlot = [[i for i in range(epochs)], []]\n",
    "\n",
    "    for i in range(epochs):\n",
    "        error = 0\n",
    "        # if i % 32 == 0:\n",
    "        #     lr /= 2\n",
    "        for sample in range(samples):\n",
    "            output = model(x_train[sample])\n",
    "            #print(f'NN output: {output}, expected value: {y_train[sample]}')\n",
    "            #print(f'sample: {one_hot_encode(y_train[sample])}')\n",
    "\n",
    "            error += loss_function(output, one_hot_encode(y_train[sample]).T)\n",
    "            \n",
    "            #print(f'Loss: {error}')\n",
    "        \n",
    "            loss = loss_function.backward()\n",
    "            #print(f'Gradiant: {loss}')\n",
    "            model.backProp(loss, lr)\n",
    "        error /= samples\n",
    "        toPlot[1].append(error)\n",
    "        print('epoch %d/%d   error=%f' % (i+1, epochs, error))\n",
    "        \n",
    "\n",
    "plt.plot(*toPlot)\n",
    "plt.title('Loss over Time')\n",
    "plt.xlabel('Trial')\n",
    "plt.ylabel('Loss')\n",
    "plt.show()"
   ]
  },
  {
   "cell_type": "code",
   "execution_count": 23,
   "metadata": {},
   "outputs": [
    {
     "name": "stdout",
     "output_type": "stream",
     "text": [
      "training accuracy: 0.63\n"
     ]
    }
   ],
   "source": [
    "scores = []\n",
    "for x in x_test:\n",
    "    scores.append(model(x))\n",
    "predicted_class = np.argmax(scores, axis=1)\n",
    "y = y_test.reshape(10000, 1)\n",
    "print('training accuracy: %.2f' % (np.mean(predicted_class == y)))"
   ]
  },
  {
   "cell_type": "code",
   "execution_count": 20,
   "metadata": {},
   "outputs": [
    {
     "name": "stdout",
     "output_type": "stream",
     "text": [
      "training accuracy: 0.42\n"
     ]
    }
   ],
   "source": [
    "scores = []\n",
    "for x in x_test:\n",
    "    scores.append(model(x, training=False))\n",
    "predicted_class = np.argmax(scores, axis=1)\n",
    "y = y_test.reshape(10000, 1)\n",
    "print('training accuracy: %.2f' % (np.mean(predicted_class == y)))"
   ]
  },
  {
   "cell_type": "code",
   "execution_count": null,
   "metadata": {},
   "outputs": [
    {
     "name": "stdout",
     "output_type": "stream",
     "text": [
      "training accuracy on training set: 0.95\n"
     ]
    }
   ],
   "source": [
    "scores_train = []\n",
    "for x in x_train:\n",
    "    scores_train.append(model(x, training=False))\n",
    "predicted_class_train = np.argmax(scores_train, axis=1)\n",
    "y_t = y_train.reshape(256, 1)\n",
    "print('training accuracy on training set: %.2f' % (np.mean(predicted_class_train == y_t)))"
   ]
  },
  {
   "cell_type": "code",
   "execution_count": null,
   "metadata": {},
   "outputs": [],
   "source": []
  }
 ],
 "metadata": {
  "kernelspec": {
   "display_name": "venv",
   "language": "python",
   "name": "python3"
  },
  "language_info": {
   "codemirror_mode": {
    "name": "ipython",
    "version": 3
   },
   "file_extension": ".py",
   "mimetype": "text/x-python",
   "name": "python",
   "nbconvert_exporter": "python",
   "pygments_lexer": "ipython3",
   "version": "3.9.6"
  },
  "orig_nbformat": 4
 },
 "nbformat": 4,
 "nbformat_minor": 2
}
